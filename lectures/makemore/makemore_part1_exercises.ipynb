{
 "cells": [
  {
   "cell_type": "markdown",
   "id": "11bca87a",
   "metadata": {},
   "source": [
    "Exercises:\n",
    "\n",
    "[X] E01: train a trigram language model, i.e. take two characters as an input to predict the 3rd one. Feel free to use either counting or a neural net. Evaluate the loss; Did it improve over a bigram model?\n",
    "\n",
    "[X] E02: split up the dataset randomly into 80% train set, 10% dev set, 10% test set. Train the bigram and trigram models only on the training set. Evaluate them on dev and test splits. What can you see?\n",
    "\n",
    "[X] E03: use the dev set to tune the strength of smoothing (or regularization) for the trigram model - i.e. try many possibilities and see which one works best based on the dev set loss. What patterns can you see in the train and dev set loss as you tune this strength? Take the best setting of the smoothing and evaluate on the test set once and at the end. How good of a loss do you achieve?\n",
    "\n",
    "[X] E04: we saw that our 1-hot vectors merely select a row of W, so producing these vectors explicitly feels wasteful. Can you delete our use of F.one_hot in favor of simply indexing into rows of W?\n",
    "\n",
    "[X] E05: look up and use F.cross_entropy instead. You should achieve the same result. Can you think of why we'd prefer to use F.cross_entropy instead?\n",
    "\n",
    "[X] E06: meta-exercise! Think of a fun/interesting exercise and complete it."
   ]
  },
  {
   "cell_type": "code",
   "execution_count": 1,
   "id": "0b1bd35c",
   "metadata": {},
   "outputs": [],
   "source": [
    "import torch\n",
    "from torch import nn\n",
    "import torch.nn.functional as F\n",
    "from torch.utils.data import TensorDataset, DataLoader"
   ]
  },
  {
   "cell_type": "code",
   "execution_count": 2,
   "id": "cebd62a9",
   "metadata": {},
   "outputs": [
    {
     "data": {
      "text/plain": [
       "['emma',\n",
       " 'olivia',\n",
       " 'ava',\n",
       " 'isabella',\n",
       " 'sophia',\n",
       " 'charlotte',\n",
       " 'mia',\n",
       " 'amelia',\n",
       " 'harper',\n",
       " 'evelyn']"
      ]
     },
     "execution_count": 2,
     "metadata": {},
     "output_type": "execute_result"
    }
   ],
   "source": [
    "words = open('names.txt', 'r').read().splitlines()\n",
    "words[:10]"
   ]
  },
  {
   "cell_type": "code",
   "execution_count": 3,
   "id": "8f3b07c8",
   "metadata": {},
   "outputs": [],
   "source": [
    "xs = []\n",
    "ys = []\n",
    "\n",
    "itos = {i + 1: chr(i + ord('a')) for i in range(26)} | {0: '.'}\n",
    "stoi = {s:i for i,s in itos.items()}\n",
    "\n",
    "for w in words:\n",
    "    w = '..' + w + '.'\n",
    "    for i in range(2, len(w)):\n",
    "        xs.append((stoi[w[i - 2]], stoi[w[i - 1]]))\n",
    "        ys.append(stoi[w[i]])\n",
    "\n",
    "xs = torch.tensor(xs)\n",
    "ys = torch.tensor(ys)\n"
   ]
  },
  {
   "cell_type": "code",
   "execution_count": 4,
   "id": "4cd9a0c2",
   "metadata": {},
   "outputs": [],
   "source": [
    "class TrigramModel(nn.Module):\n",
    "    def __init__(self):\n",
    "        super().__init__()\n",
    "        self.embedding = nn.Embedding(27, 27)\n",
    "        self.linear = nn.Linear(54, 27)\n",
    "    \n",
    "    def forward(self, x):\n",
    "        emb = self.embedding(x).view(x.shape[0], -1)\n",
    "        logits = self.linear(emb)\n",
    "        return logits\n",
    "\n",
    "    def sample(self, num_samples=1, max_length=20):\n",
    "        self.eval()\n",
    "        with torch.no_grad():\n",
    "            x = torch.zeros((num_samples, 2), dtype=torch.int32)\n",
    "            for _ in range(max_length):\n",
    "                logits = self(x[:, -2:])\n",
    "                probs = F.softmax(logits, dim=-1)\n",
    "                x = torch.cat((x, torch.multinomial(probs, num_samples=1)), dim=1)\n",
    "            out = []\n",
    "            for i in range(num_samples):\n",
    "                name = ''\n",
    "                for j in range(2, x[i].shape[0]):\n",
    "                    s = itos[x[i][j].item()]\n",
    "                    if s == '.':\n",
    "                        break\n",
    "                    name += s\n",
    "                out.append(name)\n",
    "            return out\n",
    "        "
   ]
  },
  {
   "cell_type": "code",
   "execution_count": 16,
   "id": "677d30e5",
   "metadata": {},
   "outputs": [
    {
     "name": "stdout",
     "output_type": "stream",
     "text": [
      "Using cpu device\n",
      "Train CE: 2.3712\n",
      "Dev CE: 2.3739\n",
      "Train CE: 2.3587\n",
      "Dev CE: 2.3602\n",
      "Train CE: 2.3624\n",
      "Dev CE: 2.3626\n",
      "Train CE: 2.3586\n",
      "Dev CE: 2.3601\n",
      "Train CE: 2.3544\n",
      "Dev CE: 2.3565\n",
      "Train CE: 2.3567\n",
      "Dev CE: 2.3607\n",
      "Train CE: 2.3563\n",
      "Dev CE: 2.3598\n",
      "Train CE: 2.3568\n",
      "Dev CE: 2.3585\n",
      "Train CE: 2.3547\n",
      "Dev CE: 2.3564\n",
      "Train CE: 2.3537\n",
      "Dev CE: 2.3560\n"
     ]
    }
   ],
   "source": [
    "# device = torch.accelerator.current_accelerator().type if torch.accelerator.is_available() else \"cpu\"\n",
    "device = \"cpu\"\n",
    "print(f\"Using {device} device\")\n",
    "\n",
    "learning_rate = 0.01\n",
    "batch_size = 256\n",
    "epochs = 10\n",
    "\n",
    "dataset = TensorDataset(xs.to(device), ys.to(device))\n",
    "\n",
    "train_dataset, dev_dataset, test_dataset = torch.utils.data.random_split(dataset, [0.8, 0.1, 0.1])\n",
    "\n",
    "train_dataloader = DataLoader(train_dataset, batch_size=batch_size, shuffle=True)\n",
    "\n",
    "model = TrigramModel().to(device)\n",
    "\n",
    "optimizer = torch.optim.AdamW(model.parameters(), lr=learning_rate, weight_decay=0.001)\n",
    "\n",
    "for epoch in range(epochs):\n",
    "    \n",
    "    model.train()\n",
    "    for x_batch, y_batch in train_dataloader:\n",
    "        logits = model(x_batch)\n",
    "        loss = F.cross_entropy(logits, y_batch)\n",
    "        optimizer.zero_grad()\n",
    "        loss.backward()\n",
    "        optimizer.step()\n",
    "    \n",
    "    x_train, y_train = train_dataset[:]\n",
    "    logits_train = model(x_train)\n",
    "    ce_train = F.cross_entropy(logits_train, y_train)\n",
    "    print(f\"Train CE: {ce_train.item():.4f}\")\n",
    "\n",
    "    x_dev, y_dev = dev_dataset[:]\n",
    "    logits_dev = model(x_dev)\n",
    "    ce_dev = F.cross_entropy(logits_dev, y_dev)\n",
    "    print(f\"Dev CE: {ce_dev.item():.4f}\")\n"
   ]
  },
  {
   "cell_type": "code",
   "execution_count": 18,
   "id": "d8b56245",
   "metadata": {},
   "outputs": [
    {
     "data": {
      "text/plain": [
       "['alickynni',\n",
       " 'uska',\n",
       " 'caikar',\n",
       " 'saframi',\n",
       " 'marime',\n",
       " 'a',\n",
       " 'lokdelona',\n",
       " 'jelynn',\n",
       " 'sanninn',\n",
       " 'iv']"
      ]
     },
     "execution_count": 18,
     "metadata": {},
     "output_type": "execute_result"
    }
   ],
   "source": [
    "model.sample(10)"
   ]
  },
  {
   "cell_type": "code",
   "execution_count": 17,
   "id": "d385df89",
   "metadata": {},
   "outputs": [
    {
     "name": "stdout",
     "output_type": "stream",
     "text": [
      "Test CE: 2.3474\n"
     ]
    }
   ],
   "source": [
    "x_test, y_test = test_dataset[:]\n",
    "logits_test = model(x_test)\n",
    "ce_test = F.cross_entropy(logits_test, y_test)\n",
    "print(f\"Test CE: {ce_test.item():.4f}\")\n"
   ]
  }
 ],
 "metadata": {
  "kernelspec": {
   "display_name": ".venv",
   "language": "python",
   "name": "python3"
  },
  "language_info": {
   "codemirror_mode": {
    "name": "ipython",
    "version": 3
   },
   "file_extension": ".py",
   "mimetype": "text/x-python",
   "name": "python",
   "nbconvert_exporter": "python",
   "pygments_lexer": "ipython3",
   "version": "3.13.7"
  }
 },
 "nbformat": 4,
 "nbformat_minor": 5
}
